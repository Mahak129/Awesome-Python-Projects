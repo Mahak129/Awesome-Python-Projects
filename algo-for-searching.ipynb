{
  "metadata": {
    "language_info": {
      "codemirror_mode": {
        "name": "python",
        "version": 3
      },
      "file_extension": ".py",
      "mimetype": "text/x-python",
      "name": "python",
      "nbconvert_exporter": "python",
      "pygments_lexer": "ipython3",
      "version": "3.8"
    },
    "kernelspec": {
      "name": "python",
      "display_name": "Python (Pyodide)",
      "language": "python"
    }
  },
  "nbformat_minor": 4,
  "nbformat": 4,
  "cells": [
    {
      "cell_type": "code",
      "source": "# Recursive Binary Search algorithm in Python\n\ndef binarySearch(array, x, low, high):\n\nif high >= low:\n\nmid = low + (high - low)//2\n\n# If found at mid, return the value\n\nif array[mid] == x:\n\nreturn mid\n\n# Search the first half\n\nelif array[mid] > x:\n\nreturn binarySearch(array, x, low, mid-1)\n\n# Search the second half\n\nelse:\n\nreturn binarySearch(array, x, mid + 1, high)\n\nelse:\n\nreturn -1\n\narray = [1, 2, 3, 4, 5, 6, 7, 8, 9, 10]\n\nx = int(input(\"Enter a number between 1 and 10:\"))\n\nresult = binarySearch(array, x, 0, len(array)-1)\n\nif result != -1:\n\nprint(\"Element is present at position\" + str(result))\n\nelse:\n\nprint(\"Element not found\")",
      "metadata": {
        "trusted": true
      },
      "execution_count": 8,
      "outputs": [
        {
          "ename": "<class 'IndentationError'>",
          "evalue": "expected an indented block after 'if' statement on line 5 (<ipython-input-8-7e65dd17d0ed>, line 7)",
          "traceback": [
            "\u001b[0;36m  Cell \u001b[0;32mIn [8], line 7\u001b[0;36m\u001b[0m\n\u001b[0;31m    mid = low + (high - low)//2\u001b[0m\n\u001b[0m    ^\u001b[0m\n\u001b[0;31mIndentationError\u001b[0m\u001b[0;31m:\u001b[0m expected an indented block after 'if' statement on line 5\n"
          ],
          "output_type": "error"
        }
      ]
    },
    {
      "cell_type": "code",
      "source": "",
      "metadata": {},
      "execution_count": null,
      "outputs": []
    }
  ]
}